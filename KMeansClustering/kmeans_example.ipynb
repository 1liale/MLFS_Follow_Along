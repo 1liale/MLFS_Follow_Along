{
 "cells": [
  {
   "cell_type": "code",
   "execution_count": 3,
   "metadata": {},
   "outputs": [],
   "source": [
    "# Libraries\n",
    "import matplotlib.pyplot as plt\n",
    "from sklearn.datasets import make_blobs\n",
    "import numpy as np"
   ]
  },
  {
   "cell_type": "code",
   "execution_count": 2,
   "metadata": {},
   "outputs": [],
   "source": [
    "# Helper Methods\n",
    "def euclidean_dist(x1, x2):\n",
    "    return np.sqrt(np.sum((x1 - x2) ** 2))"
   ]
  },
  {
   "cell_type": "code",
   "execution_count": 4,
   "metadata": {},
   "outputs": [
    {
     "name": "stdout",
     "output_type": "stream",
     "text": [
      "(1000, 2)\n",
      "3\n"
     ]
    }
   ],
   "source": [
    "# Data preparation\n",
    "X, y = make_blobs(\n",
    "    centers=3, n_samples=1000, n_features=2, shuffle=True, random_state=42\n",
    ")\n",
    "print(X.shape)\n",
    "n_clusters = len(np.unique(y))\n",
    "print(n_clusters)"
   ]
  },
  {
   "cell_type": "code",
   "execution_count": 5,
   "metadata": {},
   "outputs": [],
   "source": [
    "class KMeans:\n",
    "    def __init__(self, n_clusters=5, max_iters=100, plot_steps=False):\n",
    "        self.n_clusters = n_clusters\n",
    "        self.max_iters = max_iters\n",
    "        self.plot_steps = plot_steps\n",
    "\n",
    "        self.clusters = [[] for _ in range(self.n_clusters)]\n",
    "        self.centroids = []\n",
    "\n",
    "    def _create_clusters(self, centroids):\n",
    "        pass\n",
    "\n",
    "    def _get_cluster_labels(self, clusters):\n",
    "        pass\n",
    "\n",
    "    def _get_centroids(self, clusters):\n",
    "        pass\n",
    "\n",
    "    def _closest_centroid(self, sample, centroids):\n",
    "        pass\n",
    "\n",
    "    def _is_converged(self, old_centroids, centroids):\n",
    "        pass\n",
    "    \n",
    "    def predict(self, X):\n",
    "        pass\n",
    "    \n",
    "    def plot(self):\n",
    "        pass"
   ]
  }
 ],
 "metadata": {
  "kernelspec": {
   "display_name": "mlfs-env",
   "language": "python",
   "name": "python3"
  },
  "language_info": {
   "codemirror_mode": {
    "name": "ipython",
    "version": 3
   },
   "file_extension": ".py",
   "mimetype": "text/x-python",
   "name": "python",
   "nbconvert_exporter": "python",
   "pygments_lexer": "ipython3",
   "version": "3.9.6"
  },
  "orig_nbformat": 4
 },
 "nbformat": 4,
 "nbformat_minor": 2
}
